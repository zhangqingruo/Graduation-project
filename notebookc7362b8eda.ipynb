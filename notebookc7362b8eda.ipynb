{
 "cells": [
  {
   "cell_type": "code",
   "execution_count": 1,
   "id": "544671c9",
   "metadata": {
    "execution": {
     "iopub.execute_input": "2023-03-13T11:31:47.063837Z",
     "iopub.status.busy": "2023-03-13T11:31:47.063358Z",
     "iopub.status.idle": "2023-03-13T11:31:54.282602Z",
     "shell.execute_reply": "2023-03-13T11:31:54.281338Z"
    },
    "papermill": {
     "duration": 7.22604,
     "end_time": "2023-03-13T11:31:54.285210",
     "exception": false,
     "start_time": "2023-03-13T11:31:47.059170",
     "status": "completed"
    },
    "tags": []
   },
   "outputs": [
    {
     "name": "stdout",
     "output_type": "stream",
     "text": [
      "Cloning into 'Graduation-project'...\r\n",
      "remote: Enumerating objects: 20741, done.\u001b[K\r\n",
      "remote: Counting objects: 100% (6/6), done.\u001b[K\r\n",
      "remote: Compressing objects: 100% (6/6), done.\u001b[K\r\n",
      "remote: Total 20741 (delta 0), reused 3 (delta 0), pack-reused 20735\u001b[K\r\n",
      "Receiving objects: 100% (20741/20741), 133.39 MiB | 34.18 MiB/s, done.\r\n",
      "Resolving deltas: 100% (337/337), done.\r\n",
      "Updating files: 100% (20022/20022), done.\r\n"
     ]
    }
   ],
   "source": [
    "!git clone https://github.com/zhangqingruo/Graduation-project.git"
   ]
  },
  {
   "cell_type": "code",
   "execution_count": 2,
   "id": "3e008dea",
   "metadata": {
    "execution": {
     "iopub.execute_input": "2023-03-13T11:31:54.298070Z",
     "iopub.status.busy": "2023-03-13T11:31:54.296337Z",
     "iopub.status.idle": "2023-03-13T11:31:57.199933Z",
     "shell.execute_reply": "2023-03-13T11:31:57.198748Z"
    },
    "papermill": {
     "duration": 2.912687,
     "end_time": "2023-03-13T11:31:57.203014",
     "exception": false,
     "start_time": "2023-03-13T11:31:54.290327",
     "status": "completed"
    },
    "tags": []
   },
   "outputs": [
    {
     "name": "stdout",
     "output_type": "stream",
     "text": [
      "/kaggle/working/Graduation-project\n",
      "\u001b[31mERROR: Ignored the following versions that require a different python version: 3.6.0 Requires-Python >=3.8; 3.6.0rc1 Requires-Python >=3.8; 3.6.0rc2 Requires-Python >=3.8; 3.6.1 Requires-Python >=3.8; 3.6.2 Requires-Python >=3.8; 3.6.3 Requires-Python >=3.8; 3.7.0 Requires-Python >=3.8; 3.7.0rc1 Requires-Python >=3.8; 3.7.1 Requires-Python >=3.8\u001b[0m\u001b[31m\r\n",
      "\u001b[0m\u001b[31mERROR: Could not find a version that satisfies the requirement matplotlib==3.6.2 (from versions: 0.86, 0.86.1, 0.86.2, 0.91.0, 0.91.1, 1.0.1, 1.1.0, 1.1.1, 1.2.0, 1.2.1, 1.3.0, 1.3.1, 1.4.0, 1.4.1rc1, 1.4.1, 1.4.2, 1.4.3, 1.5.0, 1.5.1, 1.5.2, 1.5.3, 2.0.0b1, 2.0.0b2, 2.0.0b3, 2.0.0b4, 2.0.0rc1, 2.0.0rc2, 2.0.0, 2.0.1, 2.0.2, 2.1.0rc1, 2.1.0, 2.1.1, 2.1.2, 2.2.0rc1, 2.2.0, 2.2.2, 2.2.3, 2.2.4, 2.2.5, 3.0.0rc2, 3.0.0, 3.0.1, 3.0.2, 3.0.3, 3.1.0rc1, 3.1.0rc2, 3.1.0, 3.1.1, 3.1.2, 3.1.3, 3.2.0rc1, 3.2.0rc3, 3.2.0, 3.2.1, 3.2.2, 3.3.0rc1, 3.3.0, 3.3.1, 3.3.2, 3.3.3, 3.3.4, 3.4.0rc1, 3.4.0rc2, 3.4.0rc3, 3.4.0, 3.4.1, 3.4.2, 3.4.3, 3.5.0b1, 3.5.0rc1, 3.5.0, 3.5.1, 3.5.2, 3.5.3)\u001b[0m\u001b[31m\r\n",
      "\u001b[0m\u001b[31mERROR: No matching distribution found for matplotlib==3.6.2\u001b[0m\u001b[31m\r\n",
      "\u001b[0m"
     ]
    }
   ],
   "source": [
    "%cd /kaggle/working/Graduation-project\n",
    "!pip install -r requirements.txt"
   ]
  },
  {
   "cell_type": "code",
   "execution_count": 3,
   "id": "be4cf541",
   "metadata": {
    "execution": {
     "iopub.execute_input": "2023-03-13T11:31:57.214547Z",
     "iopub.status.busy": "2023-03-13T11:31:57.214216Z",
     "iopub.status.idle": "2023-03-13T11:31:59.759692Z",
     "shell.execute_reply": "2023-03-13T11:31:59.758413Z"
    },
    "papermill": {
     "duration": 2.554414,
     "end_time": "2023-03-13T11:31:59.762516",
     "exception": false,
     "start_time": "2023-03-13T11:31:57.208102",
     "status": "completed"
    },
    "tags": []
   },
   "outputs": [
    {
     "name": "stderr",
     "output_type": "stream",
     "text": [
      "\u001b[34m\u001b[1mwandb\u001b[0m: W&B API key is configured. Use \u001b[1m`wandb login --relogin`\u001b[0m to force relogin\n",
      "\u001b[34m\u001b[1mwandb\u001b[0m: \u001b[33mWARNING\u001b[0m If you're specifying your api key in code, ensure this code is not shared publicly.\n",
      "\u001b[34m\u001b[1mwandb\u001b[0m: \u001b[33mWARNING\u001b[0m Consider setting the WANDB_API_KEY environment variable, or running `wandb login` from the command line.\n",
      "\u001b[34m\u001b[1mwandb\u001b[0m: Appending key for api.wandb.ai to your netrc file: /root/.netrc\n"
     ]
    },
    {
     "data": {
      "text/plain": [
       "True"
      ]
     },
     "execution_count": 3,
     "metadata": {},
     "output_type": "execute_result"
    }
   ],
   "source": [
    "import wandb\n",
    "from kaggle_secrets import UserSecretsClient\n",
    "user_secrets = UserSecretsClient()\n",
    "wandb_api = user_secrets.get_secret(\"wandb_key\") \n",
    "wandb.login(key=wandb_api)"
   ]
  },
  {
   "cell_type": "code",
   "execution_count": 4,
   "id": "b7ec5f9d",
   "metadata": {
    "execution": {
     "iopub.execute_input": "2023-03-13T11:31:59.775685Z",
     "iopub.status.busy": "2023-03-13T11:31:59.774578Z",
     "iopub.status.idle": "2023-03-13T21:47:32.522972Z",
     "shell.execute_reply": "2023-03-13T21:47:32.521744Z"
    },
    "papermill": {
     "duration": 36932.757525,
     "end_time": "2023-03-13T21:47:32.525739",
     "exception": false,
     "start_time": "2023-03-13T11:31:59.768214",
     "status": "completed"
    },
    "tags": []
   },
   "outputs": [
    {
     "name": "stdout",
     "output_type": "stream",
     "text": [
      "  0%|                                                 | 0/10000 [00:00<?, ?it/s]\r\n",
      "100%|█████████████████████████████████████| 10000/10000 [01:45<00:00, 94.67it/s]\r\n",
      "\u001b[34m\u001b[1mwandb\u001b[0m: Currently logged in as: \u001b[33mzqingruo\u001b[0m. Use \u001b[1m`wandb login --relogin`\u001b[0m to force relogin\r\n",
      "\u001b[34m\u001b[1mwandb\u001b[0m: wandb version 0.13.11 is available!  To upgrade, please run:\r\n",
      "\u001b[34m\u001b[1mwandb\u001b[0m:  $ pip install wandb --upgrade\r\n",
      "\u001b[34m\u001b[1mwandb\u001b[0m: Tracking run with wandb version 0.13.10\r\n",
      "\u001b[34m\u001b[1mwandb\u001b[0m: Run data is saved locally in \u001b[35m\u001b[1m/kaggle/working/Graduation-project/wandb/run-20230313_113356-pkae6qad\u001b[0m\r\n",
      "\u001b[34m\u001b[1mwandb\u001b[0m: Run \u001b[1m`wandb offline`\u001b[0m to turn off syncing.\r\n",
      "\u001b[34m\u001b[1mwandb\u001b[0m: Syncing run \u001b[33msmart-wave-66\u001b[0m\r\n",
      "\u001b[34m\u001b[1mwandb\u001b[0m: ⭐️ View project at \u001b[34m\u001b[4mhttps://wandb.ai/zqingruo/GAN\u001b[0m\r\n",
      "\u001b[34m\u001b[1mwandb\u001b[0m: 🚀 View run at \u001b[34m\u001b[4mhttps://wandb.ai/zqingruo/GAN/runs/pkae6qad\u001b[0m\r\n",
      "Epoch 1/10: 100%|█| 9000/9000 [1:01:03<00:00,  2.46img/s, loss_D (batch)=0.319, \r\n",
      "Epoch 2/10: 100%|█| 9000/9000 [1:01:05<00:00,  2.46img/s, loss_D (batch)=1.1, lo\r\n",
      "Epoch 3/10: 100%|█| 9000/9000 [1:01:20<00:00,  2.45img/s, loss_D (batch)=0.681, \r\n",
      "Epoch 4/10: 100%|█| 9000/9000 [1:01:29<00:00,  2.44img/s, loss_D (batch)=0.283, \r\n",
      "Epoch 5/10: 100%|█| 9000/9000 [1:01:28<00:00,  2.44img/s, loss_D (batch)=0.239, \r\n",
      "Epoch 6/10: 100%|█| 9000/9000 [1:01:28<00:00,  2.44img/s, loss_D (batch)=0.553, \r\n",
      "Epoch 7/10: 100%|█| 9000/9000 [1:01:28<00:00,  2.44img/s, loss_D (batch)=0.477, \r\n",
      "Epoch 8/10: 100%|█| 9000/9000 [1:01:14<00:00,  2.45img/s, loss_D (batch)=0.457, \r\n",
      "Epoch 9/10: 100%|█| 9000/9000 [1:01:11<00:00,  2.45img/s, loss_D (batch)=0.853, \r\n",
      "Epoch 10/10: 100%|█| 9000/9000 [1:01:11<00:00,  2.45img/s, loss_D (batch)=0.549,\r\n"
     ]
    }
   ],
   "source": [
    "!python train.py --amp --epochs 10 --batch-size 8"
   ]
  }
 ],
 "metadata": {
  "kernelspec": {
   "display_name": "Python 3",
   "language": "python",
   "name": "python3"
  },
  "language_info": {
   "codemirror_mode": {
    "name": "ipython",
    "version": 3
   },
   "file_extension": ".py",
   "mimetype": "text/x-python",
   "name": "python",
   "nbconvert_exporter": "python",
   "pygments_lexer": "ipython3",
   "version": "3.7.12"
  },
  "papermill": {
   "default_parameters": {},
   "duration": 36958.575178,
   "end_time": "2023-03-13T21:47:35.962761",
   "environment_variables": {},
   "exception": null,
   "input_path": "__notebook__.ipynb",
   "output_path": "__notebook__.ipynb",
   "parameters": {},
   "start_time": "2023-03-13T11:31:37.387583",
   "version": "2.4.0"
  }
 },
 "nbformat": 4,
 "nbformat_minor": 5
}
